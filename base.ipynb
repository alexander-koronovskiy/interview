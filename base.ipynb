{
 "cells": [
  {
   "cell_type": "markdown",
   "metadata": {},
   "source": [
    "Что тут есть?\n",
    "\n",
    "1. Быстрый Фибоначчи\n",
    "2. Линейный поиск\n",
    "3. Бинарный поиск\n",
    "4. Быстрая сортировка\n",
    "5. Счетчик слов из файла\n",
    "6. Реализация Очереди\n"
   ]
  },
  {
   "cell_type": "code",
   "execution_count": 1,
   "metadata": {},
   "outputs": [
    {
     "name": "stdout",
     "output_type": "stream",
     "text": [
      "55\n"
     ]
    }
   ],
   "source": [
    "# Быстрый фибоначчи\n",
    "\n",
    "def fib_simple(n: int):\n",
    "    a, b = 0, 1\n",
    "    for _ in range(n):\n",
    "        b, a = a + b, b\n",
    "    return a\n",
    "\n",
    "fib_rec = lambda n: fib_rec(n - 1) + fib_rec(n - 2) if n > 2 else 1\n",
    "\n",
    "\n",
    "print(fib_simple(10))"
   ]
  },
  {
   "cell_type": "code",
   "execution_count": 2,
   "metadata": {},
   "outputs": [
    {
     "name": "stdout",
     "output_type": "stream",
     "text": [
      "3\n"
     ]
    }
   ],
   "source": [
    "# linear search\n",
    "# may be realised in for-break-else construction\n",
    "\n",
    "def linear_search(myList, item):\n",
    "    for i in range(len(myList)):\n",
    "        if myList[i] == item:\n",
    "            return i\n",
    "    return -1\n",
    "\n",
    "print(linear_search([1, 8, 9, -10, 64], -10))"
   ]
  },
  {
   "cell_type": "code",
   "execution_count": 3,
   "metadata": {},
   "outputs": [
    {
     "name": "stdout",
     "output_type": "stream",
     "text": [
      "False\n",
      "True\n"
     ]
    }
   ],
   "source": [
    "# Бинарный поиск\n",
    "\n",
    "def binary_search(item_list, item):\n",
    "    first = 0\n",
    "    last = len(item_list) - 1\n",
    "    found = False\n",
    "\n",
    "    while first <= last and not found:\n",
    "        mid = (first + last) // 2\n",
    "\n",
    "        if item_list[mid] == item:\n",
    "            found = True\n",
    "        elif item < item_list[mid]:\n",
    "            last = mid - 1\n",
    "        else:\n",
    "            first = mid + 1\n",
    "\n",
    "    return found\n",
    "\n",
    "\n",
    "print(binary_search([1, 2, 3, 5, 8], 6))\n",
    "print(binary_search([1, 2, 3, 5, 8], 5))"
   ]
  },
  {
   "cell_type": "code",
   "execution_count": 4,
   "metadata": {},
   "outputs": [
    {
     "name": "stdout",
     "output_type": "stream",
     "text": [
      "[-10, 1, 8, 9, 64]\n"
     ]
    }
   ],
   "source": [
    "# QuickSort\n",
    "\n",
    "def quick_sort(l: list):\n",
    "    if not l:\n",
    "        return []\n",
    "    else:\n",
    "        return (\n",
    "            quick_sort([x for x in l if x < l[0]])\n",
    "            + [l[0]]\n",
    "            + quick_sort([x for x in l if x > l[0]])\n",
    "        )\n",
    "\n",
    "\n",
    "print(quick_sort([1, 8, 9, -10, 64]))"
   ]
  },
  {
   "cell_type": "code",
   "execution_count": 12,
   "metadata": {},
   "outputs": [],
   "source": [
    "# or use Counter('str').most_common(num)\n",
    "def word_counter(file):\n",
    "    words = []\n",
    "    word_map = {}\n",
    "\n",
    "    with open(file) as f:\n",
    "        for line in f.readlines():\n",
    "            words.extend(line.lower().split(' '))\n",
    "\n",
    "    for word in words:\n",
    "        if word not in word_map:\n",
    "            word_map[word] = 1\n",
    "        else:\n",
    "            word_map[word] += 1\n",
    "    return word_map\n",
    "\n",
    "# print(word_counter('sites.txt'))"
   ]
  },
  {
   "cell_type": "code",
   "execution_count": 13,
   "metadata": {},
   "outputs": [],
   "source": [
    "class Queue:\n",
    "    def __init__(self):\n",
    "        self.queue = []\n",
    "\n",
    "    def put(self, elem):\n",
    "        self.queue.append(elem)\n",
    "\n",
    "    def pop(self):\n",
    "        return self.queue.pop(0)\n",
    "\n",
    "    def size(self):\n",
    "        return len(self.queue)"
   ]
  }
 ],
 "metadata": {
  "kernelspec": {
   "display_name": "Python 3.9.6 64-bit",
   "language": "python",
   "name": "python3"
  },
  "language_info": {
   "codemirror_mode": {
    "name": "ipython",
    "version": 3
   },
   "file_extension": ".py",
   "mimetype": "text/x-python",
   "name": "python",
   "nbconvert_exporter": "python",
   "pygments_lexer": "ipython3",
   "version": "3.9.6"
  },
  "orig_nbformat": 4,
  "vscode": {
   "interpreter": {
    "hash": "31f2aee4e71d21fbe5cf8b01ff0e069b9275f58929596ceb00d14d90e3e16cd6"
   }
  }
 },
 "nbformat": 4,
 "nbformat_minor": 2
}
