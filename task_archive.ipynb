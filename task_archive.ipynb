{
 "cells": [
  {
   "cell_type": "code",
   "execution_count": 1,
   "metadata": {},
   "outputs": [
    {
     "name": "stdout",
     "output_type": "stream",
     "text": [
      "56.2\n"
     ]
    }
   ],
   "source": [
    "# во вложенной структуре посчитать сумму всех элементов \n",
    "# которые можно конвертировать int float (23.1.24)\n",
    "\n",
    "def sum_convertible(data):\n",
    "    total = 0\n",
    "    for item in data:\n",
    "        if isinstance(item, (int, float)):\n",
    "            total += item\n",
    "        elif isinstance(item, list):\n",
    "            total += sum_convertible(item)\n",
    "        elif isinstance(item, dict):\n",
    "            total += sum_convertible(item.values())\n",
    "    return total\n",
    "\n",
    "nested_structure = [1, 2.5, [3, 4, [5.5, 6.2], 7], {\"a\": 8, \"b\": [9, 10]}]\n",
    "result = sum_convertible(nested_structure)\n",
    "print(result)"
   ]
  },
  {
   "cell_type": "code",
   "execution_count": 2,
   "metadata": {},
   "outputs": [
    {
     "data": {
      "text/plain": [
       "3.0"
      ]
     },
     "execution_count": 2,
     "metadata": {},
     "output_type": "execute_result"
    }
   ],
   "source": [
    "# интервью на миддла в феврале-марте 2023\n",
    "\n",
    "def find_missing(arr, n):\n",
    "    return n*(n+1) / 2 - sum(arr)\n",
    "\n",
    "find_missing([1, 2, 4, 5], 5)"
   ]
  },
  {
   "cell_type": "code",
   "execution_count": 3,
   "metadata": {},
   "outputs": [],
   "source": [
    "# множественная асинхроная отправка get запроса по адресам url (10.11.23)\n",
    "\n",
    "import asyncio\n",
    "import aiohttp\n",
    "\n",
    "async def get_data(url):\n",
    "    async with aiohttp.ClientSession() as session:\n",
    "        async with session.get(url) as response:\n",
    "            return await response.text()\n",
    "\n",
    "async def main():\n",
    "    urls = ['http://example.com', 'http://example.org', 'http://example.net']\n",
    "    tasks = [get_data(url) for url in urls]\n",
    "    results = await asyncio.gather(*tasks)\n",
    "    with open('sites.txt', 'w') as file:\n",
    "        for result in results:\n",
    "            file.write(result)\n",
    "\n",
    "await main()"
   ]
  }
 ],
 "metadata": {
  "kernelspec": {
   "display_name": "Python 3",
   "language": "python",
   "name": "python3"
  },
  "language_info": {
   "codemirror_mode": {
    "name": "ipython",
    "version": 3
   },
   "file_extension": ".py",
   "mimetype": "text/x-python",
   "name": "python",
   "nbconvert_exporter": "python",
   "pygments_lexer": "ipython3",
   "version": "3.9.6"
  },
  "orig_nbformat": 4
 },
 "nbformat": 4,
 "nbformat_minor": 2
}
