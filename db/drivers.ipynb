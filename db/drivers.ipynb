{
 "cells": [
  {
   "cell_type": "code",
   "execution_count": 1,
   "metadata": {},
   "outputs": [],
   "source": [
    "import sqlite3\n",
    "con = sqlite3.connect(\"tutorial.db\")"
   ]
  },
  {
   "cell_type": "code",
   "execution_count": 2,
   "metadata": {},
   "outputs": [
    {
     "data": {
      "text/plain": [
       "[(8.2,), (7.5,)]"
      ]
     },
     "execution_count": 2,
     "metadata": {},
     "output_type": "execute_result"
    }
   ],
   "source": [
    "cur = con.cursor()\n",
    "cur.execute(\"CREATE TABLE movie(title, year, score)\")\n",
    "cur.execute(\"\"\"\n",
    "    INSERT INTO movie VALUES\n",
    "        ('Monty Python and the Holy Grail', 1975, 8.2),\n",
    "        ('And Now for Something Completely Different', 1971, 7.5)\n",
    "\"\"\")\n",
    "con.commit()\n",
    "res = cur.execute(\"SELECT score FROM movie\")\n",
    "res.fetchall()"
   ]
  },
  {
   "cell_type": "code",
   "execution_count": 3,
   "metadata": {},
   "outputs": [
    {
     "name": "stdout",
     "output_type": "stream",
     "text": [
      "\u001b[33mWARNING: You are using pip version 21.2.4; however, version 23.3.2 is available.\n",
      "You should consider upgrading via the '/Library/Developer/CommandLineTools/usr/bin/python3 -m pip install --upgrade pip' command.\u001b[0m\n",
      "Note: you may need to restart the kernel to use updated packages.\n"
     ]
    }
   ],
   "source": [
    "%pip install SQLAlchemy --quiet"
   ]
  },
  {
   "cell_type": "code",
   "execution_count": 4,
   "metadata": {},
   "outputs": [],
   "source": [
    "from sqlalchemy import create_engine\n",
    "from sqlalchemy.orm import relationship\n",
    "from sqlalchemy.orm import declarative_base\n",
    "from sqlalchemy import Column, Integer, DateTime, String, ForeignKey\n",
    "\n",
    "engine = create_engine('sqlite:///example', echo=True)\n",
    "\n",
    "Base = declarative_base()\n",
    "\n",
    "class Orders(Base):\n",
    "    __tablename__ = 'orders'\n",
    "\n",
    "    id = Column(Integer, primary_key=True, nullable=False)\n",
    "    customer_id = Column(Integer)\n",
    "    order_date = Column(DateTime)\n",
    "    status = Column(String)\n",
    "\n",
    "class OrderDetails(Base):\n",
    "    __tablename__ = 'order_details'\n",
    "    \n",
    "    id = Column(Integer, primary_key=True, nullable=False)\n",
    "    product_id = Column(Integer)\n",
    "    quantity = Column(Integer)\n",
    "    order_id = Column(Integer, ForeignKey(Orders.id), nullable=False)\n",
    "    order = relationship(\"Orders\")"
   ]
  },
  {
   "cell_type": "code",
   "execution_count": 5,
   "metadata": {},
   "outputs": [
    {
     "name": "stdout",
     "output_type": "stream",
     "text": [
      "2024-01-25 17:59:42,172 INFO sqlalchemy.engine.Engine BEGIN (implicit)\n",
      "2024-01-25 17:59:42,174 INFO sqlalchemy.engine.Engine PRAGMA main.table_info(\"orders\")\n",
      "2024-01-25 17:59:42,175 INFO sqlalchemy.engine.Engine [raw sql] ()\n",
      "2024-01-25 17:59:42,177 INFO sqlalchemy.engine.Engine PRAGMA temp.table_info(\"orders\")\n",
      "2024-01-25 17:59:42,178 INFO sqlalchemy.engine.Engine [raw sql] ()\n",
      "2024-01-25 17:59:42,180 INFO sqlalchemy.engine.Engine PRAGMA main.table_info(\"order_details\")\n",
      "2024-01-25 17:59:42,180 INFO sqlalchemy.engine.Engine [raw sql] ()\n",
      "2024-01-25 17:59:42,181 INFO sqlalchemy.engine.Engine PRAGMA temp.table_info(\"order_details\")\n",
      "2024-01-25 17:59:42,183 INFO sqlalchemy.engine.Engine [raw sql] ()\n",
      "2024-01-25 17:59:42,187 INFO sqlalchemy.engine.Engine \n",
      "CREATE TABLE orders (\n",
      "\tid INTEGER NOT NULL, \n",
      "\tcustomer_id INTEGER, \n",
      "\torder_date DATETIME, \n",
      "\tstatus VARCHAR, \n",
      "\tPRIMARY KEY (id)\n",
      ")\n",
      "\n",
      "\n",
      "2024-01-25 17:59:42,190 INFO sqlalchemy.engine.Engine [no key 0.00326s] ()\n",
      "2024-01-25 17:59:42,194 INFO sqlalchemy.engine.Engine \n",
      "CREATE TABLE order_details (\n",
      "\tid INTEGER NOT NULL, \n",
      "\tproduct_id INTEGER, \n",
      "\tquantity INTEGER, \n",
      "\torder_id INTEGER NOT NULL, \n",
      "\tPRIMARY KEY (id), \n",
      "\tFOREIGN KEY(order_id) REFERENCES orders (id)\n",
      ")\n",
      "\n",
      "\n",
      "2024-01-25 17:59:42,195 INFO sqlalchemy.engine.Engine [no key 0.00114s] ()\n",
      "2024-01-25 17:59:42,197 INFO sqlalchemy.engine.Engine COMMIT\n"
     ]
    }
   ],
   "source": [
    "Base.metadata.create_all(engine)"
   ]
  },
  {
   "cell_type": "code",
   "execution_count": 6,
   "metadata": {},
   "outputs": [
    {
     "name": "stdout",
     "output_type": "stream",
     "text": [
      "2024-01-25 18:01:04,763 INFO sqlalchemy.engine.Engine BEGIN (implicit)\n",
      "2024-01-25 18:01:04,766 INFO sqlalchemy.engine.Engine INSERT INTO orders (customer_id, order_date, status) VALUES (?, ?, ?)\n",
      "2024-01-25 18:01:04,766 INFO sqlalchemy.engine.Engine [generated in 0.00059s] (192, '2024-01-25 18:01:04.755460', 'P')\n",
      "2024-01-25 18:01:04,768 INFO sqlalchemy.engine.Engine COMMIT\n",
      "2024-01-25 18:01:04,771 INFO sqlalchemy.engine.Engine BEGIN (implicit)\n",
      "2024-01-25 18:01:04,773 INFO sqlalchemy.engine.Engine SELECT orders.id AS orders_id, orders.customer_id AS orders_customer_id, orders.order_date AS orders_order_date, orders.status AS orders_status \n",
      "FROM orders \n",
      "WHERE orders.id = ?\n",
      "2024-01-25 18:01:04,773 INFO sqlalchemy.engine.Engine [generated in 0.00053s] (1,)\n",
      "2024-01-25 18:01:04,775 INFO sqlalchemy.engine.Engine INSERT INTO order_details (product_id, quantity, order_id) VALUES (?, ?, ?) RETURNING id\n",
      "2024-01-25 18:01:04,776 INFO sqlalchemy.engine.Engine [generated in 0.00008s (insertmanyvalues) 1/2 (ordered; batch not supported)] (4321, 2, 1)\n",
      "2024-01-25 18:01:04,777 INFO sqlalchemy.engine.Engine INSERT INTO order_details (product_id, quantity, order_id) VALUES (?, ?, ?) RETURNING id\n",
      "2024-01-25 18:01:04,778 INFO sqlalchemy.engine.Engine [insertmanyvalues 2/2 (ordered; batch not supported)] (5512, 1, 1)\n",
      "2024-01-25 18:01:04,779 INFO sqlalchemy.engine.Engine COMMIT\n"
     ]
    }
   ],
   "source": [
    "from datetime import datetime\n",
    "from sqlalchemy.orm import Session\n",
    "\n",
    "session = Session(engine)\n",
    "order = Orders(customer_id=192, order_date=datetime.now(), status='P')\n",
    "session.add(order)\n",
    "session.commit()\n",
    "\n",
    "orderDetails1 = OrderDetails(order=order, product_id=4321, quantity=2)\n",
    "orderDetails2 = OrderDetails(order=order, product_id=5512, quantity=1)\n",
    "session.add(orderDetails1)\n",
    "session.add(orderDetails2)\n",
    "session.commit()"
   ]
  },
  {
   "cell_type": "code",
   "execution_count": 7,
   "metadata": {},
   "outputs": [
    {
     "name": "stdout",
     "output_type": "stream",
     "text": [
      "2024-01-25 18:01:21,814 INFO sqlalchemy.engine.Engine BEGIN (implicit)\n",
      "2024-01-25 18:01:21,815 INFO sqlalchemy.engine.Engine SELECT order_details.id AS order_details_id, order_details.product_id AS order_details_product_id, order_details.quantity AS order_details_quantity, order_details.order_id AS order_details_order_id \n",
      "FROM order_details\n",
      "2024-01-25 18:01:21,817 INFO sqlalchemy.engine.Engine [generated in 0.00166s] ()\n",
      "2\n",
      "1\n"
     ]
    }
   ],
   "source": [
    "orderDetails = session.query(OrderDetails).all()\n",
    "for detail in orderDetails:\n",
    "    print(detail.quantity)"
   ]
  }
 ],
 "metadata": {
  "kernelspec": {
   "display_name": "Python 3.9.6 64-bit",
   "language": "python",
   "name": "python3"
  },
  "language_info": {
   "codemirror_mode": {
    "name": "ipython",
    "version": 3
   },
   "file_extension": ".py",
   "mimetype": "text/x-python",
   "name": "python",
   "nbconvert_exporter": "python",
   "pygments_lexer": "ipython3",
   "version": "3.9.6"
  },
  "orig_nbformat": 4,
  "vscode": {
   "interpreter": {
    "hash": "31f2aee4e71d21fbe5cf8b01ff0e069b9275f58929596ceb00d14d90e3e16cd6"
   }
  }
 },
 "nbformat": 4,
 "nbformat_minor": 2
}
