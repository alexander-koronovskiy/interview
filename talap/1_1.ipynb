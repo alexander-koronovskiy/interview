{
 "cells": [
  {
   "cell_type": "markdown",
   "metadata": {},
   "source": [
    "Написать программу на Java, которая запрашивает у пользователя количество чисел,\n",
    "затем запрашивает эти числа, и наконец, выводит среднее значение этих чисел\n",
    "Требования:\n",
    "1. Программа должна использовать стандартный ввод и вывод (консоль).\n",
    "2. Проверка на корректность ввода (например, на случай ввода текста вместо чисел)\n",
    "не обязательна, но будет плюсом.\n",
    "3. Использование циклов и массивов будет предпочтительным способом реализации."
   ]
  },
  {
   "cell_type": "code",
   "execution_count": 1,
   "metadata": {
    "vscode": {
     "languageId": "java"
    }
   },
   "outputs": [],
   "source": [
    "import java.util.Scanner;\n",
    "\n",
    "public class AverageCalculator {\n",
    "    public static void main(String[] args) {\n",
    "        Scanner scanner = new Scanner(System.in);\n",
    "        \n",
    "        System.out.print(\"Введите количество чисел: \");\n",
    "        int count = scanner.nextInt();\n",
    "        \n",
    "        int[] numbers = new int[count];\n",
    "        int sum = 0;\n",
    "        \n",
    "        for (int i = 0; i < count; i++) {\n",
    "            System.out.print(\"Введите число \" + (i+1) + \": \");\n",
    "            numbers[i] = scanner.nextInt();\n",
    "            sum += numbers[i];\n",
    "        }\n",
    "        \n",
    "        double average = (double) sum / count;\n",
    "        \n",
    "        System.out.println(\"Среднее значение: \" + average);\n",
    "        \n",
    "        scanner.close();\n",
    "    }\n",
    "}"
   ]
  },
  {
   "cell_type": "code",
   "execution_count": 2,
   "metadata": {
    "vscode": {
     "languageId": "java"
    }
   },
   "outputs": [
    {
     "name": "stdout",
     "output_type": "stream",
     "text": [
      "Введите количество чисел: Введите число 1: Введите число 2: Введите число 3: Введите число 4: Введите число 5: Среднее значение: 3.0\n"
     ]
    }
   ],
   "source": [
    "Scanner scanner = new Scanner(System.in);\n",
    "        \n",
    "System.out.print(\"Введите количество чисел: \");\n",
    "int count = scanner.nextInt();\n",
    "\n",
    "int[] numbers = new int[count];\n",
    "int sum = 0;\n",
    "\n",
    "for (int i = 0; i < count; i++) {\n",
    "    System.out.print(\"Введите число \" + (i+1) + \": \");\n",
    "    numbers[i] = scanner.nextInt();\n",
    "    sum += numbers[i];\n",
    "}\n",
    "\n",
    "double average = (double) sum / count;\n",
    "\n",
    "System.out.println(\"Среднее значение: \" + average);\n",
    "\n",
    "scanner.close();"
   ]
  }
 ],
 "metadata": {
  "kernelspec": {
   "display_name": "java (IJava/j!)",
   "language": "java",
   "name": "jbang-ijava"
  },
  "language_info": {
   "codemirror_mode": "java",
   "file_extension": ".jshell",
   "mimetype": "text/x-java-source",
   "name": "Java",
   "pygments_lexer": "java",
   "version": "21.0.2+13-LTS"
  }
 },
 "nbformat": 4,
 "nbformat_minor": 2
}
