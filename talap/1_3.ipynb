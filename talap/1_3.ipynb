{
 "cells": [
  {
   "cell_type": "markdown",
   "metadata": {},
   "source": [
    "Написать метод на Java, который принимает целое число в качестве аргумента и\n",
    "возвращает число, записанное теми же цифрами в обратном порядке.\n",
    "Требования:\n",
    "1. Входное число может быть как положительным, так и отрицательным.\n",
    "2. Если входное число оканчивается на 0, отбросьте ноль при переворачивании\n",
    "(например, 1230 должно вернуться как 321)\n",
    "3. Возвращаемое значение также должно быть целым числом."
   ]
  },
  {
   "cell_type": "code",
   "execution_count": 1,
   "metadata": {
    "vscode": {
     "languageId": "java"
    }
   },
   "outputs": [],
   "source": [
    "public class NumberReverser {\n",
    "    public static void main(String[] args) {\n",
    "        int number = 12345;\n",
    "        System.out.println(reverseNumber(number)); // Выведет: 54321\n",
    "    }\n",
    "\n",
    "    public static int reverseNumber(int num) {\n",
    "        int reversed = 0;\n",
    "        // Обработка отрицательных чисел\n",
    "        boolean isNegative = num < 0;\n",
    "        if (isNegative) {\n",
    "            num = -num;\n",
    "        }\n",
    "        // Переворачивание цифр\n",
    "        while (num > 0) {\n",
    "            int digit = num % 10;\n",
    "            if (reversed == 0 && digit == 0) {\n",
    "                // Пропускаем нули в конце числа\n",
    "            } else {\n",
    "                reversed = reversed * 10 + digit;\n",
    "            }\n",
    "            num = num / 10;\n",
    "        }\n",
    "        return isNegative ? -reversed : reversed;\n",
    "    }\n",
    "}"
   ]
  },
  {
   "cell_type": "code",
   "execution_count": 2,
   "metadata": {
    "vscode": {
     "languageId": "java"
    }
   },
   "outputs": [
    {
     "name": "stdout",
     "output_type": "stream",
     "text": [
      "54321\n"
     ]
    }
   ],
   "source": [
    "public static int reverseNumber(int num) {\n",
    "    int reversed = 0;\n",
    "    // Обработка отрицательных чисел\n",
    "    boolean isNegative = num < 0;\n",
    "    if (isNegative) {\n",
    "        num = -num;\n",
    "    }\n",
    "    // Переворачивание цифр\n",
    "    while (num > 0) {\n",
    "        int digit = num % 10;\n",
    "        if (reversed == 0 && digit == 0) {\n",
    "            // Пропускаем нули в конце числа\n",
    "        } else {\n",
    "            reversed = reversed * 10 + digit;\n",
    "        }\n",
    "        num = num / 10;\n",
    "    }\n",
    "    return isNegative ? -reversed : reversed;\n",
    "}\n",
    "\n",
    "int number = 12345;\n",
    "System.out.println(reverseNumber(number)); // Выведет: 54321"
   ]
  }
 ],
 "metadata": {
  "kernelspec": {
   "display_name": "java (IJava/j!)",
   "language": "java",
   "name": "jbang-ijava"
  },
  "language_info": {
   "codemirror_mode": "java",
   "file_extension": ".jshell",
   "mimetype": "text/x-java-source",
   "name": "Java",
   "pygments_lexer": "java",
   "version": "21.0.2+13-LTS"
  }
 },
 "nbformat": 4,
 "nbformat_minor": 2
}
