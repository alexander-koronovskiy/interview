{
 "cells": [
  {
   "cell_type": "markdown",
   "metadata": {},
   "source": [
    "Напишите метод на Java, который принимает строку как аргумент и возвращает true,\n",
    "если строка является палиндромом, и false в противном случае.\n",
    "Требования:\n",
    "1. Палиндром - это строка, которая читается одинаково как с начала, так и с конца\n",
    "(например, &quot;radar&quot;, &quot;level&quot;).\n",
    "2. Пробелы и знаки пунктуации должны игнорироваться при проверке\n",
    "3. Реализация должна быть чувствительна к регистру (то есть &quot;Radar&quot; не является\n",
    "палиндромом)"
   ]
  },
  {
   "cell_type": "code",
   "execution_count": 8,
   "metadata": {
    "vscode": {
     "languageId": "java"
    }
   },
   "outputs": [],
   "source": [
    "public class PalindromeChecker {\n",
    "    public static void main(String[] args) {\n",
    "        String testString = \"A man, a plan, a canal, Panama\";\n",
    "        System.out.println(isPalindrome(testString)); // Выведет: true\n",
    "    }\n",
    "\n",
    "    public static boolean isPalindrome(String str) {\n",
    "        // Удаляем пробелы и знаки пунктуации из строки и приводим к нижнему регистру\n",
    "        String cleanStr = str.replaceAll(\"[^a-zA-Z0-9]\", \"\");\n",
    "\n",
    "        // Проверяем, является ли очищенная строка палиндромом\n",
    "        int left = 0;\n",
    "        int right = cleanStr.length() - 1;\n",
    "        while (left < right) {\n",
    "            if (cleanStr.charAt(left) != cleanStr.charAt(right)) {\n",
    "                return false;\n",
    "            }\n",
    "            left++;\n",
    "            right--;\n",
    "        }\n",
    "        return true;\n",
    "    }\n",
    "}"
   ]
  },
  {
   "cell_type": "code",
   "execution_count": 11,
   "metadata": {
    "vscode": {
     "languageId": "java"
    }
   },
   "outputs": [
    {
     "name": "stdout",
     "output_type": "stream",
     "text": [
      "false\n"
     ]
    }
   ],
   "source": [
    "\n",
    "public static boolean isPalindrome(String str) {\n",
    "    // Удаляем пробелы и знаки пунктуации из строки и приводим к нижнему регистру\n",
    "    String cleanStr = str.replaceAll(\"[^a-zA-Z0-9]\", \"\");\n",
    "\n",
    "    // Проверяем, является ли очищенная строка палиндромом\n",
    "    int left = 0;\n",
    "    int right = cleanStr.length() - 1;\n",
    "    while (left < right) {\n",
    "        if (cleanStr.charAt(left) != cleanStr.charAt(right)) {\n",
    "            return false;\n",
    "        }\n",
    "        left++;\n",
    "        right--;\n",
    "    }\n",
    "    return true;\n",
    "}\n",
    "\n",
    "String testString = \"A man, a plan, a canal, Panama\";\n",
    "String testString = \"Radar\";\n",
    "System.out.println(isPalindrome(testString)); // Выведет: true"
   ]
  }
 ],
 "metadata": {
  "kernelspec": {
   "display_name": "java (IJava/j!)",
   "language": "java",
   "name": "jbang-ijava"
  },
  "language_info": {
   "codemirror_mode": "java",
   "file_extension": ".jshell",
   "mimetype": "text/x-java-source",
   "name": "Java",
   "pygments_lexer": "java",
   "version": "21.0.2+13-LTS"
  }
 },
 "nbformat": 4,
 "nbformat_minor": 2
}
