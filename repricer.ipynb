{
 "cells": [
  {
   "cell_type": "markdown",
   "metadata": {},
   "source": [
    "Опишите (можете нарисовать верхнеуровневую схему) архитектуру сервиса 'Репрайсер' \n",
    "- с обоснованием тех компонентов, \n",
    "- технологий и \n",
    "- инструментов, которые предполагаете использовать. \n",
    "\n",
    "Какие известные Вам технические нюансы репрайсера WildBerries могут возникнуть и как Вы планируете их решать?\n",
    "\n",
    "https://docs.google.com/forms/d/1tXk7mZ8APUlEDsL-U0mpW_Ks3Qo1XnnoYOi1R6lyBko/viewform?edit_requested=true"
   ]
  }
 ],
 "metadata": {
  "kernelspec": {
   "display_name": "Python 3.9.6 64-bit",
   "language": "python",
   "name": "python3"
  },
  "language_info": {
   "name": "python",
   "version": "3.9.6"
  },
  "orig_nbformat": 4,
  "vscode": {
   "interpreter": {
    "hash": "31f2aee4e71d21fbe5cf8b01ff0e069b9275f58929596ceb00d14d90e3e16cd6"
   }
  }
 },
 "nbformat": 4,
 "nbformat_minor": 2
}
