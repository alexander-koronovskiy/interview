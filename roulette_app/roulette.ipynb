{
 "cells": [
  {
   "cell_type": "code",
   "execution_count": 2,
   "metadata": {},
   "outputs": [
    {
     "name": "stdout",
     "output_type": "stream",
     "text": [
      "Welcome to the pseudo roulette!\n",
      "Congratulations! Jackpot!\n"
     ]
    }
   ],
   "source": [
    "# roulette app\n",
    "\n",
    "import random\n",
    "\n",
    "class Roulette:\n",
    "    def __init__(self):\n",
    "        self.numbers = list(range(1, 11))\n",
    "        self.drawn_numbers = []\n",
    "\n",
    "    def spin(self):\n",
    "        if len(self.drawn_numbers) < 10:\n",
    "            result = random.choice(self.numbers)\n",
    "            self.drawn_numbers.append(result)\n",
    "            return result\n",
    "        else:\n",
    "            result = \"Jackpot\"\n",
    "            print(\"Congratulations! Jackpot!\")\n",
    "            return result\n",
    "\n",
    "roulette = Roulette()\n",
    "\n",
    "print(\"Welcome to the pseudo roulette!\")\n",
    "while True:\n",
    "    input(\"Press enter to spin the roulette...\")\n",
    "    result = roulette.spin()\n",
    "    if result == \"Jackpot\":\n",
    "        break"
   ]
  },
  {
   "cell_type": "markdown",
   "metadata": {},
   "source": [
    "I/O\n",
    "json: name, spin\n",
    "- parse\n",
    "- router\n",
    "- roulette handle\n",
    "- write result to db\n",
    "\n",
    "- connector\n",
    "\n",
    "round, log"
   ]
  },
  {
   "cell_type": "code",
   "execution_count": 3,
   "metadata": {},
   "outputs": [],
   "source": [
    "import json\n",
    "\n",
    "def parse_request(req:str = 'tests/example.json'):\n",
    "    with open(req, 'r') as file:\n",
    "        data = json.load(file)\n",
    "    return data['user_id'], data['route']\n"
   ]
  },
  {
   "cell_type": "code",
   "execution_count": 5,
   "metadata": {},
   "outputs": [
    {
     "data": {
      "text/plain": [
       "['3', '3', '7', '1', '9', '9', '5', '8', '6', 'Jackpot']"
      ]
     },
     "execution_count": 5,
     "metadata": {},
     "output_type": "execute_result"
    }
   ],
   "source": [
    "from db import load_logs, connect_sql\n",
    "conn = connect_sql()\n",
    "user_id, round = 'alkor2', 0\n",
    "\n",
    "load_logs(conn, user_id, round)"
   ]
  }
 ],
 "metadata": {
  "kernelspec": {
   "display_name": "Python 3",
   "language": "python",
   "name": "python3"
  },
  "language_info": {
   "codemirror_mode": {
    "name": "ipython",
    "version": 3
   },
   "file_extension": ".py",
   "mimetype": "text/x-python",
   "name": "python",
   "nbconvert_exporter": "python",
   "pygments_lexer": "ipython3",
   "version": "3.9.6"
  }
 },
 "nbformat": 4,
 "nbformat_minor": 2
}
