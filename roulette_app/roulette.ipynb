{
 "cells": [
  {
   "cell_type": "markdown",
   "metadata": {},
   "source": [
    "Пользователь крутит рулетку и ему выпадает одна из ячеек. После того, как ячейка выпала, она исключается из дальнейшего выпадения (т.е. в этом раунде рулетки она уже выпасть не может). Ячейка джекпот выпадает только после того как выпали все ячейки от 1 до 10. После того, как выпадает джекпот, раунд рулетки завершается и начинается новый раунд. Шанс выпадения каждой ячейки одинаковый.\n",
    "\n",
    "Необходимо написать веб-приложение, которое крутит рулетку согласно указанной логике и согласно указанным весам. Для сохранения состояния раунда рулетки необходимо использовать БД. Также должен сохранятся в другой таблице лог выпадений ячеек.\n",
    "\n",
    "Способ прокручивания рулетки - POST HTTP запрос с JSON данными.\n",
    "Дополнительно нужно реализовать функционал получения статистической информации (GET HTTP запрос с JSON ответом):\n",
    "Какое количество людей участвовало в рулетке (таблица, где в строке первый элемент это номер раунда рулетки, второй элемент количество пользователей)\n",
    "Список самых активных пользователей, где для каждого элемента нужно указать:\n",
    "айди пользователя\n",
    "количество раундов рулетке в которые он участвовал\n",
    "среднее количество прокручиваний рулетки за раунд\n",
    "Ограничения:\n",
    "Механизм выбора ячейки на основании весов ячейки необходимо реализовать самостоятельно без использования сторонних библиотек\n",
    "Соблюдение современных паттернов, принципов и стандартов разработки\n",
    "Соблюдение гайдлайнов\n",
    "БД можно использовать MySQL или Postgres последних стабильных версий\n",
    "\n",
    "Реализацию необходимо залить на любой публичный\\приватный git репозиторий. \n",
    "\n",
    "Будет большим плюсом, если упакуете проект в docker-compose проект или docker образ."
   ]
  },
  {
   "cell_type": "code",
   "execution_count": 12,
   "metadata": {},
   "outputs": [
    {
     "name": "stdout",
     "output_type": "stream",
     "text": [
      "Welcome to the pseudo roulette!\n",
      "The ball lands on 6.\n",
      "The ball lands on 7.\n",
      "The ball lands on 7.\n",
      "The ball lands on 4.\n",
      "The ball lands on 10.\n",
      "The ball lands on 5.\n",
      "The ball lands on 7.\n",
      "The ball lands on 5.\n",
      "The ball lands on 6.\n",
      "The ball lands on 5.\n",
      "Congratulations! Jackpot!\n"
     ]
    }
   ],
   "source": [
    "# def roulette_handle\n",
    "\n",
    "from core import Roulette\n",
    "roulette = Roulette()\n",
    "\n",
    "print(\"Welcome to the pseudo roulette!\")\n",
    "while True:\n",
    "    input(\"Press enter to spin the roulette...\")\n",
    "    result = roulette.spin()\n",
    "    if result == \"Jackpot\":\n",
    "        break"
   ]
  },
  {
   "cell_type": "markdown",
   "metadata": {},
   "source": [
    "I/O\n",
    "json: name, spin\n",
    "- parse\n",
    "- router\n",
    "- roulette handle\n",
    "- write result to db\n",
    "\n",
    "- connector\n",
    "\n",
    "round, log"
   ]
  },
  {
   "cell_type": "code",
   "execution_count": 3,
   "metadata": {},
   "outputs": [],
   "source": [
    "import json\n",
    "\n",
    "def parse_request(req:str = 'tests/example.json'):\n",
    "    with open(req, 'r') as file:\n",
    "        data = json.load(file)\n",
    "    return data['user_id'], data['route']\n"
   ]
  },
  {
   "cell_type": "code",
   "execution_count": 4,
   "metadata": {},
   "outputs": [
    {
     "name": "stdout",
     "output_type": "stream",
     "text": [
      "[('alkor', '0', '5', '8'), ('alkor', '0', '5', '5'), ('alkor', '0', '5', '4'), ('alkor', '0', '5', '9'), ('alkor', '0', '5', '6'), ('alkor', '0', '5', '10'), ('alkor', '0', '5', '6'), ('alkor', '0', '5', '10'), ('alkor', '0', '5', '4'), ('alkor', '0', '5', '6'), ('alkor', '1', '5', '7'), ('alkor', '1', '5', '2'), ('alkor', '1', '5', '7'), ('alkor', '1', '5', '10'), ('alkor', '1', '5', '7'), ('alkor', '1', '5', '8'), ('alkor', '1', '5', '5'), ('alkor', '1', '5', '2'), ('alkor', '1', '5', '2'), ('alkor', '1', '5', '4'), ('alkor', '2', '5', '9'), ('alkor', '2', '5', '6'), ('alkor', '2', '5', '10'), ('alkor', '2', '5', '6'), ('alkor', '2', '5', '3'), ('alkor', '2', '5', '1'), ('alkor', '2', '5', '7')]\n"
     ]
    }
   ],
   "source": [
    "from router import add_spin\n",
    "\n",
    "user_id, route = parse_request()\n",
    "add_spin(user_id, route)\n"
   ]
  }
 ],
 "metadata": {
  "kernelspec": {
   "display_name": "Python 3",
   "language": "python",
   "name": "python3"
  },
  "language_info": {
   "codemirror_mode": {
    "name": "ipython",
    "version": 3
   },
   "file_extension": ".py",
   "mimetype": "text/x-python",
   "name": "python",
   "nbconvert_exporter": "python",
   "pygments_lexer": "ipython3",
   "version": "3.9.6"
  }
 },
 "nbformat": 4,
 "nbformat_minor": 2
}
