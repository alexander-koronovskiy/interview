{
 "cells": [
  {
   "cell_type": "markdown",
   "metadata": {},
   "source": [
    "Пользователь крутит рулетку и ему выпадает одна из ячеек. После того, как ячейка выпала, она исключается из дальнейшего выпадения (т.е. в этом раунде рулетки она уже выпасть не может). Ячейка джекпот выпадает только после того как выпали все ячейки от 1 до 10. После того, как выпадает джекпот, раунд рулетки завершается и начинается новый раунд. Шанс выпадения каждой ячейки одинаковый.\n",
    "\n",
    "Необходимо написать веб-приложение, которое крутит рулетку согласно указанной логике и согласно указанным весам. Для сохранения состояния раунда рулетки необходимо использовать БД. Также должен сохранятся в другой таблице лог выпадений ячеек.\n",
    "\n",
    "Способ прокручивания рулетки - POST HTTP запрос с JSON данными.\n",
    "Дополнительно нужно реализовать функционал получения статистической информации (GET HTTP запрос с JSON ответом):\n",
    "Какое количество людей участвовало в рулетке (таблица, где в строке первый элемент это номер раунда рулетки, второй элемент количество пользователей)\n",
    "Список самых активных пользователей, где для каждого элемента нужно указать:\n",
    "айди пользователя\n",
    "количество раундов рулетке в которые он участвовал\n",
    "среднее количество прокручиваний рулетки за раунд\n",
    "Ограничения:\n",
    "Механизм выбора ячейки на основании весов ячейки необходимо реализовать самостоятельно без использования сторонних библиотек\n",
    "Соблюдение современных паттернов, принципов и стандартов разработки\n",
    "Соблюдение гайдлайнов\n",
    "БД можно использовать MySQL или Postgres последних стабильных версий\n",
    "\n",
    "Реализацию необходимо залить на любой публичный\\приватный git репозиторий. \n",
    "\n",
    "Будет большим плюсом, если упакуете проект в docker-compose проект или docker образ."
   ]
  },
  {
   "cell_type": "code",
   "execution_count": 2,
   "metadata": {},
   "outputs": [
    {
     "name": "stdout",
     "output_type": "stream",
     "text": [
      "Welcome to the pseudo roulette!\n",
      "Congratulations! Jackpot!\n"
     ]
    }
   ],
   "source": [
    "# def roulette_handle\n",
    "\n",
    "import random\n",
    "\n",
    "class Roulette:\n",
    "    def __init__(self):\n",
    "        self.numbers = list(range(1, 11))\n",
    "        self.drawn_numbers = []\n",
    "\n",
    "    def spin(self):\n",
    "        if len(self.drawn_numbers) < 10:\n",
    "            result = random.choice(self.numbers)\n",
    "            self.drawn_numbers.append(result)\n",
    "            return result\n",
    "        else:\n",
    "            result = \"Jackpot\"\n",
    "            print(\"Congratulations! Jackpot!\")\n",
    "            return result\n",
    "\n",
    "roulette = Roulette()\n",
    "\n",
    "print(\"Welcome to the pseudo roulette!\")\n",
    "while True:\n",
    "    input(\"Press enter to spin the roulette...\")\n",
    "    result = roulette.spin()\n",
    "    if result == \"Jackpot\":\n",
    "        break"
   ]
  },
  {
   "cell_type": "markdown",
   "metadata": {},
   "source": [
    "I/O\n",
    "json: name, spin\n",
    "- parse\n",
    "- router\n",
    "- roulette handle\n",
    "- write result to db\n",
    "\n",
    "- connector\n",
    "\n",
    "round, log"
   ]
  },
  {
   "cell_type": "code",
   "execution_count": 3,
   "metadata": {},
   "outputs": [],
   "source": [
    "import json\n",
    "\n",
    "def parse_request(req:str = 'tests/example.json'):\n",
    "    with open(req, 'r') as file:\n",
    "        data = json.load(file)\n",
    "    return data['user_id'], data['route']\n"
   ]
  },
  {
   "cell_type": "code",
   "execution_count": 1,
   "metadata": {},
   "outputs": [
    {
     "data": {
      "text/plain": [
       "['3', '3', '7', '1', '9', '9', '5', '8', '6', 'Jackpot']"
      ]
     },
     "execution_count": 1,
     "metadata": {},
     "output_type": "execute_result"
    }
   ],
   "source": [
    "from db import load_logs, connect_sql\n",
    "conn = connect_sql()\n",
    "user_id, round = 'alkor2', 0\n",
    "\n",
    "load_logs(conn, user_id, round)"
   ]
  }
 ],
 "metadata": {
  "kernelspec": {
   "display_name": "Python 3",
   "language": "python",
   "name": "python3"
  },
  "language_info": {
   "codemirror_mode": {
    "name": "ipython",
    "version": 3
   },
   "file_extension": ".py",
   "mimetype": "text/x-python",
   "name": "python",
   "nbconvert_exporter": "python",
   "pygments_lexer": "ipython3",
   "version": "3.9.6"
  }
 },
 "nbformat": 4,
 "nbformat_minor": 2
}
